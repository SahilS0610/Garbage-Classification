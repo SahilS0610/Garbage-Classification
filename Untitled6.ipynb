{
  "nbformat": 4,
  "nbformat_minor": 0,
  "metadata": {
    "colab": {
      "provenance": [],
      "gpuType": "T4",
      "authorship_tag": "ABX9TyMDcDNI8toEV6TkR+HMtiaN",
      "include_colab_link": true
    },
    "kernelspec": {
      "name": "python3",
      "display_name": "Python 3"
    },
    "language_info": {
      "name": "python"
    },
    "accelerator": "GPU"
  },
  "cells": [
    {
      "cell_type": "markdown",
      "metadata": {
        "id": "view-in-github",
        "colab_type": "text"
      },
      "source": [
        "<a href=\"https://colab.research.google.com/github/SahilS0610/Garbage-Classification/blob/main/Untitled6.ipynb\" target=\"_parent\"><img src=\"https://colab.research.google.com/assets/colab-badge.svg\" alt=\"Open In Colab\"/></a>"
      ]
    },
    {
      "cell_type": "code",
      "execution_count": null,
      "metadata": {
        "colab": {
          "base_uri": "https://localhost:8080/",
          "height": 55
        },
        "id": "Nac_TKD9VGSo",
        "outputId": "58dc6bc5-065e-4f33-f4b8-67772ab9bfbe"
      },
      "outputs": [
        {
          "output_type": "display_data",
          "data": {
            "text/plain": [
              "<IPython.core.display.HTML object>"
            ],
            "text/html": [
              "\n",
              "     <input type=\"file\" id=\"files-1273d94d-7b9b-4604-baff-c71611ae84ec\" name=\"files[]\" multiple disabled\n",
              "        style=\"border:none\" />\n",
              "     <output id=\"result-1273d94d-7b9b-4604-baff-c71611ae84ec\">\n",
              "      Upload widget is only available when the cell has been executed in the\n",
              "      current browser session. Please rerun this cell to enable.\n",
              "      </output>\n",
              "      <script>// Copyright 2017 Google LLC\n",
              "//\n",
              "// Licensed under the Apache License, Version 2.0 (the \"License\");\n",
              "// you may not use this file except in compliance with the License.\n",
              "// You may obtain a copy of the License at\n",
              "//\n",
              "//      http://www.apache.org/licenses/LICENSE-2.0\n",
              "//\n",
              "// Unless required by applicable law or agreed to in writing, software\n",
              "// distributed under the License is distributed on an \"AS IS\" BASIS,\n",
              "// WITHOUT WARRANTIES OR CONDITIONS OF ANY KIND, either express or implied.\n",
              "// See the License for the specific language governing permissions and\n",
              "// limitations under the License.\n",
              "\n",
              "/**\n",
              " * @fileoverview Helpers for google.colab Python module.\n",
              " */\n",
              "(function(scope) {\n",
              "function span(text, styleAttributes = {}) {\n",
              "  const element = document.createElement('span');\n",
              "  element.textContent = text;\n",
              "  for (const key of Object.keys(styleAttributes)) {\n",
              "    element.style[key] = styleAttributes[key];\n",
              "  }\n",
              "  return element;\n",
              "}\n",
              "\n",
              "// Max number of bytes which will be uploaded at a time.\n",
              "const MAX_PAYLOAD_SIZE = 100 * 1024;\n",
              "\n",
              "function _uploadFiles(inputId, outputId) {\n",
              "  const steps = uploadFilesStep(inputId, outputId);\n",
              "  const outputElement = document.getElementById(outputId);\n",
              "  // Cache steps on the outputElement to make it available for the next call\n",
              "  // to uploadFilesContinue from Python.\n",
              "  outputElement.steps = steps;\n",
              "\n",
              "  return _uploadFilesContinue(outputId);\n",
              "}\n",
              "\n",
              "// This is roughly an async generator (not supported in the browser yet),\n",
              "// where there are multiple asynchronous steps and the Python side is going\n",
              "// to poll for completion of each step.\n",
              "// This uses a Promise to block the python side on completion of each step,\n",
              "// then passes the result of the previous step as the input to the next step.\n",
              "function _uploadFilesContinue(outputId) {\n",
              "  const outputElement = document.getElementById(outputId);\n",
              "  const steps = outputElement.steps;\n",
              "\n",
              "  const next = steps.next(outputElement.lastPromiseValue);\n",
              "  return Promise.resolve(next.value.promise).then((value) => {\n",
              "    // Cache the last promise value to make it available to the next\n",
              "    // step of the generator.\n",
              "    outputElement.lastPromiseValue = value;\n",
              "    return next.value.response;\n",
              "  });\n",
              "}\n",
              "\n",
              "/**\n",
              " * Generator function which is called between each async step of the upload\n",
              " * process.\n",
              " * @param {string} inputId Element ID of the input file picker element.\n",
              " * @param {string} outputId Element ID of the output display.\n",
              " * @return {!Iterable<!Object>} Iterable of next steps.\n",
              " */\n",
              "function* uploadFilesStep(inputId, outputId) {\n",
              "  const inputElement = document.getElementById(inputId);\n",
              "  inputElement.disabled = false;\n",
              "\n",
              "  const outputElement = document.getElementById(outputId);\n",
              "  outputElement.innerHTML = '';\n",
              "\n",
              "  const pickedPromise = new Promise((resolve) => {\n",
              "    inputElement.addEventListener('change', (e) => {\n",
              "      resolve(e.target.files);\n",
              "    });\n",
              "  });\n",
              "\n",
              "  const cancel = document.createElement('button');\n",
              "  inputElement.parentElement.appendChild(cancel);\n",
              "  cancel.textContent = 'Cancel upload';\n",
              "  const cancelPromise = new Promise((resolve) => {\n",
              "    cancel.onclick = () => {\n",
              "      resolve(null);\n",
              "    };\n",
              "  });\n",
              "\n",
              "  // Wait for the user to pick the files.\n",
              "  const files = yield {\n",
              "    promise: Promise.race([pickedPromise, cancelPromise]),\n",
              "    response: {\n",
              "      action: 'starting',\n",
              "    }\n",
              "  };\n",
              "\n",
              "  cancel.remove();\n",
              "\n",
              "  // Disable the input element since further picks are not allowed.\n",
              "  inputElement.disabled = true;\n",
              "\n",
              "  if (!files) {\n",
              "    return {\n",
              "      response: {\n",
              "        action: 'complete',\n",
              "      }\n",
              "    };\n",
              "  }\n",
              "\n",
              "  for (const file of files) {\n",
              "    const li = document.createElement('li');\n",
              "    li.append(span(file.name, {fontWeight: 'bold'}));\n",
              "    li.append(span(\n",
              "        `(${file.type || 'n/a'}) - ${file.size} bytes, ` +\n",
              "        `last modified: ${\n",
              "            file.lastModifiedDate ? file.lastModifiedDate.toLocaleDateString() :\n",
              "                                    'n/a'} - `));\n",
              "    const percent = span('0% done');\n",
              "    li.appendChild(percent);\n",
              "\n",
              "    outputElement.appendChild(li);\n",
              "\n",
              "    const fileDataPromise = new Promise((resolve) => {\n",
              "      const reader = new FileReader();\n",
              "      reader.onload = (e) => {\n",
              "        resolve(e.target.result);\n",
              "      };\n",
              "      reader.readAsArrayBuffer(file);\n",
              "    });\n",
              "    // Wait for the data to be ready.\n",
              "    let fileData = yield {\n",
              "      promise: fileDataPromise,\n",
              "      response: {\n",
              "        action: 'continue',\n",
              "      }\n",
              "    };\n",
              "\n",
              "    // Use a chunked sending to avoid message size limits. See b/62115660.\n",
              "    let position = 0;\n",
              "    do {\n",
              "      const length = Math.min(fileData.byteLength - position, MAX_PAYLOAD_SIZE);\n",
              "      const chunk = new Uint8Array(fileData, position, length);\n",
              "      position += length;\n",
              "\n",
              "      const base64 = btoa(String.fromCharCode.apply(null, chunk));\n",
              "      yield {\n",
              "        response: {\n",
              "          action: 'append',\n",
              "          file: file.name,\n",
              "          data: base64,\n",
              "        },\n",
              "      };\n",
              "\n",
              "      let percentDone = fileData.byteLength === 0 ?\n",
              "          100 :\n",
              "          Math.round((position / fileData.byteLength) * 100);\n",
              "      percent.textContent = `${percentDone}% done`;\n",
              "\n",
              "    } while (position < fileData.byteLength);\n",
              "  }\n",
              "\n",
              "  // All done.\n",
              "  yield {\n",
              "    response: {\n",
              "      action: 'complete',\n",
              "    }\n",
              "  };\n",
              "}\n",
              "\n",
              "scope.google = scope.google || {};\n",
              "scope.google.colab = scope.google.colab || {};\n",
              "scope.google.colab._files = {\n",
              "  _uploadFiles,\n",
              "  _uploadFilesContinue,\n",
              "};\n",
              "})(self);\n",
              "</script> "
            ]
          },
          "metadata": {}
        }
      ],
      "source": [
        "from google.colab import files\n",
        "uploaded = files.upload()  # Upload the .zip file\n"
      ]
    },
    {
      "cell_type": "code",
      "source": [
        "import zipfile\n",
        "import os\n",
        "\n",
        "zip_path = \"archive.zip\"  # Replace if named differently\n",
        "with zipfile.ZipFile(zip_path, 'r') as zip_ref:\n",
        "    zip_ref.extractall(\"garbage_classification\")\n"
      ],
      "metadata": {
        "id": "XMRI3zbcYvBH"
      },
      "execution_count": null,
      "outputs": []
    },
    {
      "cell_type": "code",
      "source": [
        "import os\n",
        "for root, dirs, files in os.walk(\"/content/garbage_classification\"):\n",
        "    print(root)\n",
        "    break  # remove break to see more levels\n"
      ],
      "metadata": {
        "id": "mlkIOf5fhYHL"
      },
      "execution_count": null,
      "outputs": []
    },
    {
      "cell_type": "code",
      "source": [
        "import numpy as np\n",
        "import pandas as pd\n",
        "import matplotlib.pyplot as plt\n",
        "import seaborn as sns\n",
        "import os\n",
        "from PIL import Image\n",
        "\n",
        "import tensorflow as tf\n",
        "from tensorflow.keras.layers import Conv2D , MaxPooling2D , Dense , Flatten , Dropout , GlobalAveragePooling2D\n",
        "from tensorflow.keras.models import Sequential , Model\n",
        "from tensorflow.keras.applications import MobileNetV2\n",
        "from tensorflow.keras.optimizers import Adam\n",
        "from pathlib import Path\n",
        "\n",
        "import warnings\n",
        "warnings.filterwarnings('ignore')"
      ],
      "metadata": {
        "id": "guwiKqwRgzn3"
      },
      "execution_count": null,
      "outputs": []
    },
    {
      "cell_type": "code",
      "source": [
        "path = \"/content/garbage_classification/garbage_classification\""
      ],
      "metadata": {
        "id": "yrKrgP87hdkN"
      },
      "execution_count": null,
      "outputs": []
    },
    {
      "cell_type": "code",
      "source": [
        "img_size = 128\n",
        "batch_size = 32"
      ],
      "metadata": {
        "id": "ebB-zgrvhitj"
      },
      "execution_count": null,
      "outputs": []
    },
    {
      "cell_type": "code",
      "source": [
        "images = []\n",
        "labels = []\n",
        "\n",
        "for class_folder in os.listdir(path):\n",
        "    class_path = os.path.join(path, class_folder)\n",
        "\n",
        "    if not os.path.isdir(class_path):\n",
        "        continue\n",
        "\n",
        "    print(f\"{class_folder}\")\n",
        "\n",
        "    for img_file in os.listdir(class_path):\n",
        "        img_path = os.path.join(class_path, img_file)\n",
        "\n",
        "        if not os.path.isfile(img_path) or not img_file.lower().endswith(('.png', '.jpg', '.jpeg')):\n",
        "            continue\n",
        "\n",
        "\n",
        "        img = Image.open(img_path)\n",
        "        img = img.convert('RGB')\n",
        "        img = img.resize((img_size, img_size))\n",
        "        img_array = np.array(img)\n",
        "\n",
        "\n",
        "        images.append(img_array)\n",
        "        labels.append(class_folder)\n",
        "\n",
        "\n",
        "images = np.array(images)\n",
        "labels = np.array(labels)\n",
        "\n",
        "print(f\"{len(images)} \")\n",
        "print(f\"{len(np.unique(labels))}\")"
      ],
      "metadata": {
        "id": "9gLkQWDHhnOz"
      },
      "execution_count": null,
      "outputs": []
    },
    {
      "cell_type": "code",
      "source": [
        "labels_to_replace = ['green-glass', 'white-glass', 'brown-glass']\n",
        "new_label = 'glass'\n",
        "\n",
        "for old_label in labels_to_replace:\n",
        "    labels[labels == old_label] = new_label"
      ],
      "metadata": {
        "id": "O5ifv97Gh5eh"
      },
      "execution_count": null,
      "outputs": []
    },
    {
      "cell_type": "code",
      "source": [
        "len(pd.unique(labels))"
      ],
      "metadata": {
        "id": "rEYKRrbth92I"
      },
      "execution_count": null,
      "outputs": []
    },
    {
      "cell_type": "code",
      "source": [
        "pd.value_counts(labels)"
      ],
      "metadata": {
        "id": "JNbIDGJiiBr2"
      },
      "execution_count": null,
      "outputs": []
    },
    {
      "cell_type": "code",
      "source": [
        "from sklearn.preprocessing import LabelEncoder\n",
        "lb = LabelEncoder()\n",
        "\n",
        "labels = lb.fit_transform(labels)"
      ],
      "metadata": {
        "id": "jRPTuYVRiH9Q"
      },
      "execution_count": null,
      "outputs": []
    },
    {
      "cell_type": "code",
      "source": [
        "classes = lb.classes_\n",
        "classes"
      ],
      "metadata": {
        "id": "aL5uRIN0iLbV"
      },
      "execution_count": null,
      "outputs": []
    },
    {
      "cell_type": "code",
      "source": [
        "pd.unique(labels)"
      ],
      "metadata": {
        "id": "OLFhPYc2iNBg"
      },
      "execution_count": null,
      "outputs": []
    },
    {
      "cell_type": "code",
      "source": [
        "from sklearn.model_selection import train_test_split\n",
        "X_train , X_test , y_train , y_test = train_test_split(images , labels , test_size = 0.3 , random_state = 42)\n",
        "\n",
        "X_test , X_val , y_test , y_val = train_test_split(X_test , y_test , test_size = 0.4 , random_state = 42)"
      ],
      "metadata": {
        "id": "-xE4FoFfiS2K"
      },
      "execution_count": null,
      "outputs": []
    },
    {
      "cell_type": "code",
      "source": [
        "X_train.shape , X_test.shape , X_val.shape"
      ],
      "metadata": {
        "id": "Ra1kkoggiUaY"
      },
      "execution_count": null,
      "outputs": []
    },
    {
      "cell_type": "code",
      "source": [
        "y_train.shape , y_test.shape , y_val.shape"
      ],
      "metadata": {
        "id": "M4lbLTpHiYU_"
      },
      "execution_count": null,
      "outputs": []
    },
    {
      "cell_type": "code",
      "source": [
        "model = Sequential([\n",
        "    Conv2D(128 , (3,3) , activation = 'relu' , input_shape = (img_size , img_size , 3)),\n",
        "    MaxPooling2D((2,2)),\n",
        "    Dropout(0.2),\n",
        "    Conv2D(64 , (3,3) , activation = 'relu'),\n",
        "    MaxPooling2D((2,2)),\n",
        "    Dropout(0.2),\n",
        "    Conv2D(32 , (3,3) , activation = 'relu'),\n",
        "    MaxPooling2D((2,2)),\n",
        "    Dropout(0.2),\n",
        "    Flatten(),\n",
        "    Dense(128, activation='relu'),\n",
        "    Dropout(0.2),\n",
        "    Dense(len(pd.unique(labels)) , activation = 'softmax')\n",
        "])"
      ],
      "metadata": {
        "id": "1H_xl4eOidMB"
      },
      "execution_count": null,
      "outputs": []
    },
    {
      "cell_type": "code",
      "source": [
        "model.compile(optimizer = 'adam' , loss = 'sparse_categorical_crossentropy' , metrics=['accuracy'])"
      ],
      "metadata": {
        "id": "r0La_z1diigS"
      },
      "execution_count": null,
      "outputs": []
    },
    {
      "cell_type": "code",
      "source": [
        "from tensorflow.keras.callbacks import EarlyStopping\n",
        "earlystop = EarlyStopping(patience=5, restore_best_weights=True , monitor='val_loss')\n",
        "\n",
        "history = model.fit(\n",
        "    X_train , y_train,\n",
        "    validation_data=(X_val, y_val),\n",
        "    epochs=10,\n",
        "    callbacks=[earlystop]\n",
        ")"
      ],
      "metadata": {
        "id": "8b1VqLW1imVP"
      },
      "execution_count": null,
      "outputs": []
    },
    {
      "cell_type": "code",
      "source": [
        "loss , accuarcy = model.evaluate(X_test , y_test)\n",
        "print(f\"Test Loss: {loss}, Test Accuracy: {accuarcy}\")"
      ],
      "metadata": {
        "id": "awV0sSu-lpdh"
      },
      "execution_count": null,
      "outputs": []
    },
    {
      "cell_type": "code",
      "source": [
        "y_pred_cnn = model.predict(X_test)\n",
        "y_pred_cnn = np.argmax(y_pred_cnn, axis=1)"
      ],
      "metadata": {
        "id": "ynkuW3zKltOO"
      },
      "execution_count": null,
      "outputs": []
    },
    {
      "cell_type": "code",
      "source": [
        "from sklearn.metrics import classification_report, confusion_matrix\n",
        "\n",
        "plt.figure(figsize=(10, 8))\n",
        "cm = confusion_matrix(y_test, y_pred_cnn)\n",
        "sns.heatmap(cm, annot=True, fmt='d', cmap='Blues', xticklabels=lb.classes_, yticklabels=lb.classes_)"
      ],
      "metadata": {
        "id": "Qj1YfcfQlxmi"
      },
      "execution_count": null,
      "outputs": []
    },
    {
      "cell_type": "code",
      "source": [
        "print(classification_report(y_test, y_pred_cnn , target_names=lb.classes_))"
      ],
      "metadata": {
        "id": "65E89iVUl21p"
      },
      "execution_count": null,
      "outputs": []
    },
    {
      "cell_type": "code",
      "source": [
        "optimizer = Adam(learning_rate = 0.001)\n",
        "\n",
        "base_model = tf.keras.applications.MobileNetV2(include_top=False, weights='imagenet', input_shape=(img_size , img_size , 3))\n",
        "base_model.trainable = False\n",
        "\n",
        "x = base_model.output\n",
        "x = GlobalAveragePooling2D()(x)\n",
        "x = Dropout(0.3)(x)\n",
        "preds = Dense(10, activation='softmax')(x)\n",
        "\n",
        "model_MobileNetV2 = Model(inputs=base_model.input, outputs=preds)\n",
        "\n",
        "model_MobileNetV2.compile(optimizer= optimizer , loss='sparse_categorical_crossentropy', metrics=['accuracy'])"
      ],
      "metadata": {
        "id": "Hc0PS7MIn_3W"
      },
      "execution_count": null,
      "outputs": []
    },
    {
      "cell_type": "code",
      "source": [
        "earlystop = EarlyStopping(patience=5, restore_best_weights=True , monitor='val_loss')\n",
        "\n",
        "history = model_MobileNetV2.fit(\n",
        "    X_train , y_train,\n",
        "    validation_data=(X_val, y_val),\n",
        "    epochs=10,\n",
        "    callbacks=[earlystop]\n",
        ")"
      ],
      "metadata": {
        "id": "bXKrvQrMoMsP"
      },
      "execution_count": null,
      "outputs": []
    },
    {
      "cell_type": "code",
      "source": [
        "loss , accuracy = model_MobileNetV2.evaluate(X_test , y_test)\n",
        "print(f\"Test Loss: {loss}, Test Accuracy: {accuracy}\")"
      ],
      "metadata": {
        "id": "JN7YLD0JtpJN"
      },
      "execution_count": null,
      "outputs": []
    },
    {
      "cell_type": "code",
      "source": [
        "y_pred_MobileNetV2 = model_MobileNetV2.predict(X_test)\n",
        "y_pred_MobileNetV2 = np.argmax(y_pred_MobileNetV2, axis=1)"
      ],
      "metadata": {
        "id": "nn9l5A_etwAu"
      },
      "execution_count": null,
      "outputs": []
    },
    {
      "cell_type": "code",
      "source": [
        "plt.figure(figsize=(10, 8))\n",
        "cm = confusion_matrix(y_test, y_pred_MobileNetV2)\n",
        "sns.heatmap(cm, annot=True, fmt='d', cmap='Blues', xticklabels=lb.classes_, yticklabels=lb.classes_)"
      ],
      "metadata": {
        "id": "Q4lkq2vJt4WS"
      },
      "execution_count": null,
      "outputs": []
    },
    {
      "cell_type": "code",
      "source": [
        "print(classification_report(y_test, y_pred_MobileNetV2 , target_names=lb.classes_))"
      ],
      "metadata": {
        "id": "mVuBV_ADuAKY"
      },
      "execution_count": null,
      "outputs": []
    },
    {
      "cell_type": "code",
      "source": [
        "base_model = tf.keras.applications.DenseNet121(input_shape=(img_size , img_size , 3) ,include_top=False,weights='imagenet')\n",
        "base_model.trainable = True\n",
        "\n",
        "x = base_model.output\n",
        "\n",
        "x = GlobalAveragePooling2D()(x)\n",
        "x = Dropout(0.3)(x)\n",
        "predictions = Dense(10, activation='softmax')(x)\n",
        "model_DenseNet121 = Model(inputs=base_model.input, outputs=predictions)"
      ],
      "metadata": {
        "id": "pwkYehqfuG3E"
      },
      "execution_count": null,
      "outputs": []
    },
    {
      "cell_type": "code",
      "source": [
        "model_DenseNet121.compile(loss ='sparse_categorical_crossentropy',optimizer='adam',metrics=['accuracy'])"
      ],
      "metadata": {
        "id": "jwGQrzBBuJJt"
      },
      "execution_count": null,
      "outputs": []
    },
    {
      "cell_type": "code",
      "source": [
        "earlystop = EarlyStopping(patience=5, restore_best_weights=True , monitor='val_loss')\n",
        "\n",
        "history = model_DenseNet121.fit(\n",
        "    X_train , y_train,\n",
        "    validation_data=(X_val, y_val),\n",
        "    epochs=10,\n",
        "    callbacks=[earlystop]\n",
        ")"
      ],
      "metadata": {
        "id": "lfMIw12luPPE"
      },
      "execution_count": null,
      "outputs": []
    },
    {
      "cell_type": "code",
      "source": [
        "loss , accuracy = model_DenseNet121.evaluate(X_test , y_test)\n",
        "print(f\"Test Loss: {loss}, Test Accuracy: {accuracy}\")"
      ],
      "metadata": {
        "id": "4vdXIHFTNYSK"
      },
      "execution_count": null,
      "outputs": []
    },
    {
      "cell_type": "code",
      "source": [
        "y_pred_DenseNet121 = model_DenseNet121.predict(X_test)\n",
        "y_pred_DenseNet121 = np.argmax(y_pred_DenseNet121, axis=1)"
      ],
      "metadata": {
        "id": "8_cyMaD6NkGb"
      },
      "execution_count": null,
      "outputs": []
    },
    {
      "cell_type": "code",
      "source": [
        "plt.figure(figsize=(10, 8))\n",
        "cm = confusion_matrix(y_test, y_pred_DenseNet121)\n",
        "sns.heatmap(cm, annot=True, fmt='d', cmap='Blues', xticklabels=lb.classes_, yticklabels=lb.classes_)"
      ],
      "metadata": {
        "id": "l5qz0tV7NnsF"
      },
      "execution_count": null,
      "outputs": []
    },
    {
      "cell_type": "code",
      "source": [
        "print(classification_report(y_test, y_pred_DenseNet121 , target_names=lb.classes_))"
      ],
      "metadata": {
        "id": "tJD34GFiNrpB"
      },
      "execution_count": null,
      "outputs": []
    },
    {
      "cell_type": "code",
      "source": [
        "def predict(img_path):\n",
        "    img = Image.open(img_path)\n",
        "    img = img.convert('RGB')\n",
        "    img = img.resize((img_size , img_size))\n",
        "    img = np.array(img)\n",
        "    img = np.expand_dims(img, axis=0)\n",
        "\n",
        "    prediction = model_DenseNet121.predict(img)\n",
        "    np.array(prediction).reshape(-1)\n",
        "\n",
        "    print(f\"Prediction is : {classes[np.argmax(prediction)]} , Confidence is: {round(np.max(prediction)*100 , 2)}%\")\n",
        "\n",
        "    classes_predict = {}\n",
        "    for classs , predict in zip(classes , np.array(prediction).reshape(-1)):\n",
        "        classes_predict[classs] = round((predict)*100 , 2)\n",
        "\n",
        "    plt.figure(figsize=(10,8))\n",
        "    sns.barplot(x = list(classes_predict.keys()) , y = list(classes_predict.values()) , palette=\"viridis\",\n",
        "    saturation=0.8  )\n",
        "    plt.show()"
      ],
      "metadata": {
        "id": "bbj_3NtxNv87"
      },
      "execution_count": null,
      "outputs": []
    },
    {
      "cell_type": "code",
      "source": [
        "from io import BytesIO\n",
        "\n",
        "def predict_from_bytes(img_bytes):\n",
        "    img = Image.open(img_bytes)\n",
        "    img = img.convert('RGB')\n",
        "    img = img.resize((img_size, img_size))\n",
        "    img_array = np.array(img)\n",
        "    img_array = np.expand_dims(img_array, axis=0)\n",
        "\n",
        "    prediction = model_DenseNet121.predict(img_array)\n",
        "\n",
        "    print(f\"Prediction is : {classes[np.argmax(prediction)]} , Confidence is: {round(np.max(prediction)*100 , 2)}%\")\n",
        "\n",
        "    classes_predict = {cls: round(prob * 100, 2) for cls, prob in zip(classes, prediction[0])}\n",
        "\n",
        "    plt.figure(figsize=(10, 8))\n",
        "    sns.barplot(x=list(classes_predict.keys()), y=list(classes_predict.values()), palette=\"viridis\", saturation=0.8)\n",
        "    plt.show()\n"
      ],
      "metadata": {
        "id": "6VP3jGqlN4-T"
      },
      "execution_count": null,
      "outputs": []
    },
    {
      "cell_type": "code",
      "source": [
        "from google.colab import files\n",
        "\n",
        "uploaded = files.upload()  # This will open file upload dialog in Colab\n",
        "\n",
        "for filename in uploaded.keys():\n",
        "    print(f'Predicting on {filename}')\n",
        "    predict_from_bytes(BytesIO(uploaded[filename]))\n"
      ],
      "metadata": {
        "id": "vAGVBve2xPmv"
      },
      "execution_count": null,
      "outputs": []
    }
  ]
}